{
 "cells": [
  {
   "cell_type": "code",
   "execution_count": null,
   "id": "753485f8-5b38-4f34-8b01-b3033ab8fb95",
   "metadata": {},
   "outputs": [],
   "source": [
    "# THIS IS MY PROJECT SCRAP PAD"
   ]
  },
  {
   "cell_type": "code",
   "execution_count": null,
   "id": "577b70bc-172f-47b7-b337-20ade4592814",
   "metadata": {},
   "outputs": [],
   "source": [
    "# Cell 1: Data Fetching\n",
    "# This cell will fetch data from X\n",
    "# (Add your code or pseudocode here)"
   ]
  },
  {
   "cell_type": "code",
   "execution_count": null,
   "id": "88037dd6-3d5d-4eff-9252-b6aae5e57d20",
   "metadata": {},
   "outputs": [],
   "source": [
    "# Cell 2: Data Processing\n",
    "# This cell will process the data we got from X\n",
    "# (Add your code or pseudocode here)"
   ]
  }
 ],
 "metadata": {
  "kernelspec": {
   "display_name": "Python 3 (ipykernel)",
   "language": "python",
   "name": "python3"
  },
  "language_info": {
   "codemirror_mode": {
    "name": "ipython",
    "version": 3
   },
   "file_extension": ".py",
   "mimetype": "text/x-python",
   "name": "python",
   "nbconvert_exporter": "python",
   "pygments_lexer": "ipython3",
   "version": "3.12.4"
  }
 },
 "nbformat": 4,
 "nbformat_minor": 5
}
